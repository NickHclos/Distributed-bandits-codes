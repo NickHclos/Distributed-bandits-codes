{
 "cells": [
  {
   "cell_type": "markdown",
   "metadata": {},
   "source": [
    "# Init"
   ]
  },
  {
   "cell_type": "code",
   "execution_count": 9,
   "metadata": {},
   "outputs": [],
   "source": [
    "# coding: utf-8\n",
    "\n",
    "import numpy as np\n",
    "import matplotlib.pyplot as plt\n",
    "import time\n",
    "from math import log\n",
    "from math import sqrt\n",
    "\n",
    "K = 1000 # number of arms\n",
    "d = 10 # dimension\n",
    "T = 10000 # time horizon\n",
    "maxT = 10000\n",
    "M = 100 # number of agents\n",
    "C = 0.5 # constant\n",
    "lam = 1 # global parameter\n",
    "ins = [0] * (K + 1)\n",
    "tracex = []\n",
    "tracey = []\n",
    "\n",
    "# Generate linear bandits sample\n",
    "# ins[0]: theta*\n",
    "# ins[1:K]: K arms\n",
    "np.random.seed(187)"
   ]
  },
  {
   "cell_type": "markdown",
   "metadata": {},
   "source": [
    "# Run"
   ]
  },
  {
   "cell_type": "code",
   "execution_count": 10,
   "metadata": {},
   "outputs": [
    {
     "name": "stdout",
     "output_type": "stream",
     "text": [
      "10000\n"
     ]
    },
    {
     "data": {
      "image/png": "[encoded data removed]",
      "text/plain": [
       "<Figure size 432x288 with 1 Axes>"
      ]
     },
     "metadata": {
      "needs_background": "light"
     },
     "output_type": "display_data"
    }
   ],
   "source": [
    "# Sample from arm k\n",
    "def sample(k) :\n",
    "    global ins\n",
    "    return np.asscalar(np.dot(ins[0].T, ins[k])) + np.random.normal()\n",
    "\n",
    "# solve the inner argmax problem\n",
    "# max <x, theta> s.t. ||theta - theta_hat||_2 <= radius\n",
    "#def solveArgmax(x, theta_hat, radius) :\n",
    "#    return np.asscalar(np.dot(x.T, theta_hat)) + radius * np.linalg.norm(x) / sqrt(np.asscalar(x.T @ V @ x))\n",
    "\n",
    "# solve the inner argmax problem\n",
    "# max <x, theta> s.t. ||theta||_V <= radius\n",
    "def solveArgmax(x, Vinv, radius) :\n",
    "    return radius * sqrt(np.asscalar(x.T @ Vinv @ x))\n",
    "\n",
    "# compute matrix square root\n",
    "#def sqrtMat(A) :\n",
    "#   u, s, v = np.linalg.svd(A)\n",
    "#    s = np.diag(np.sqrt(s))\n",
    "#    return u @ s @ v\n",
    "\n",
    "# Run for horizon T\n",
    "def simulate() :\n",
    "    global K, d, T, C, lam, ins\n",
    "    CumRegret = np.zeros((M,))\n",
    "    regret = [-200]\n",
    "    for i in range(K) :\n",
    "        regret.append(np.asscalar(np.dot(ins[0].T, ins[i + 1])))\n",
    "        if (regret[i + 1] > regret[0]) :\n",
    "            regret[0] = regret[i + 1]\n",
    "    for i in range(K) :\n",
    "        regret[i + 1] = regret[0] - regret[i + 1]\n",
    "        #if (regret[i + 1] > 0 and regret[i + 1] < gap) :\n",
    "        #    gap = regret[i + 1]\n",
    "        #print(regret[i + 1])\n",
    "    #print(gap)\n",
    "    #print(regret)\n",
    "    for m in range(M) :\n",
    "        V = lam * np.identity(d) \n",
    "        U = np.zeros((d, 1))\n",
    "        Vlast = lam * np.identity(d)\n",
    "        (sgn, VlastLogd) =  np.linalg.slogdet(Vlast)\n",
    "        #access = np.zeros((K + 1,))\n",
    "        \n",
    "        bestarm = 1    \n",
    "        for t in range(1, T + 1) :\n",
    "            (sgn, logd) =  np.linalg.slogdet(V)\n",
    "            #logd = 0\n",
    "            if (t == 1 or logd > log(1 + C) + VlastLogd) :\n",
    "                bestarm = 1\n",
    "                bestval = -100000\n",
    "                #sqrtV = sqrtMat(V)\n",
    "                #sqrtVinv = np.linalg.inv(sqrtV)\n",
    "                #theta_hat = sqrtV @ np.linalg.inv(V) @ U\n",
    "                Vinv = np.linalg.inv(V)\n",
    "                theta_hat = Vinv @ U\n",
    "                radius = sqrt(logd - d * log(lam) + 2 * log(T)) + sqrt(lam) # delta = 1 / T\n",
    "                for i in range(1, K + 1) :\n",
    "                    val = np.asscalar(np.dot(ins[i].T, theta_hat)) + solveArgmax(ins[i], Vinv, radius)\n",
    "                    if (val > bestval) :\n",
    "                        bestval = val\n",
    "                        bestarm = i\n",
    "\n",
    "                VlastLogd = logd\n",
    "        \n",
    "            #access[bestarm] += 1\n",
    "            y = sample(bestarm)\n",
    "            CumRegret[m] += regret[bestarm]\n",
    "            V += ins[bestarm] @ ins[bestarm].T\n",
    "            U += y * ins[bestarm]\n",
    "\n",
    "    return np.sum(CumRegret)\n",
    "\n",
    "if __name__ == '__main__' :\n",
    "    while (T <= maxT) :\n",
    "        print(T)\n",
    "        Reg = 0\n",
    "        for experi in range(5) :\n",
    "            Theta = np.random.normal(size=d)\n",
    "            rho = 2 / sqrt(T)\n",
    "            #Theta = Theta / np.linalg.norm(Theta)\n",
    "            X=np.random.random(size=(K, d))*rho - np.ones((K, d))*0.5*rho\n",
    "            ins[0] = Theta.reshape((d, 1))\n",
    "            for i in range(1, K + 1) :\n",
    "                ins[i] = X[i - 1].reshape((d, 1))    \n",
    "            Reg += simulate()\n",
    "        tracex.append(T)\n",
    "        tracey.append(Reg / 5)\n",
    "        #print(trace_test)\n",
    "        T += 200\n",
    "        \n",
    "    File = open('LinUCB.txt', 'w')\n",
    "    for k in range(len(tracex)) :\n",
    "        File.write(str(tracex[k]) + ' ' + str(tracey[k]))\n",
    "        File.write('\\n')\n",
    "    File.close()\n",
    "\n",
    "    plt.plot(tracex, tracey, label = 'LinUCB')\n",
    "    plt.xlabel('Time')\n",
    "    plt.ylabel('Cumulative Regret')\n",
    "    plt.legend()\n",
    "    plt.savefig('LinUCB.png')\n",
    "\n",
    "    Finish = open('LinUCB_finish.txt', 'w')\n",
    "    Finish.close()\n"
   ]
  },
  {
   "cell_type": "code",
   "execution_count": null,
   "metadata": {},
   "outputs": [],
   "source": []
  }
 ],
 "metadata": {
  "kernelspec": {
   "display_name": "Python 3",
   "language": "python",
   "name": "python3"
  },
  "language_info": {
   "codemirror_mode": {
    "name": "ipython",
    "version": 3
   },
   "file_extension": ".py",
   "mimetype": "text/x-python",
   "name": "python",
   "nbconvert_exporter": "python",
   "pygments_lexer": "ipython3",
   "version": "3.7.3"
  }
 },
 "nbformat": 4,
 "nbformat_minor": 2
}
